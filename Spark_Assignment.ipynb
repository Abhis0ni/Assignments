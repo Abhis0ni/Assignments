a. Read the data, show it and Count the number of records.
>>> dfCase = spark.read.option("header",True).option("inferSchema",True).csv("/user/input/Case.csv")
>>> dfRegion = spark.read.option("header",True).option("inferSchema",True).csv("/user/input/Region.csv")
>>> dfTimeProvince = spark.read.option("header",True).option("inferSchema",True).csv("/user/input/TimeProvince.csv")
